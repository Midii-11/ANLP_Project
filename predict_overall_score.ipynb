{
 "cells": [
  {
   "cell_type": "markdown",
   "metadata": {
    "collapsed": true,
    "pycharm": {
     "name": "#%% md\n"
    }
   },
   "source": [
    "# Prediction of the superhero's overall score\n",
    "\n",
    "The goal of this notebook is to predict a superhero's overall score based on the hero's history and powers description.\n",
    "Different techniques are used to achieve this goal.\n",
    "\n",
    "- __Section 2__ uses a bag of words (BoW) approach to encode the text into a fixed length vector. This representation is the input to a linear regression model that aims to predict the superhero's overall score.\n",
    "- __Section 3__ Follows a similar approach while replacing the linear regression model by a multilayer perceptron."
   ]
  },
  {
   "cell_type": "markdown",
   "source": [
    "## 0. Setup"
   ],
   "metadata": {
    "collapsed": false
   }
  },
  {
   "cell_type": "code",
   "execution_count": 18,
   "outputs": [],
   "source": [
    "import numpy as np\n",
    "import pandas as pd\n",
    "from sklearn.feature_extraction.text import CountVectorizer\n",
    "from sklearn.linear_model import LinearRegression\n",
    "from sklearn.model_selection import train_test_split"
   ],
   "metadata": {
    "collapsed": false,
    "pycharm": {
     "name": "#%%\n"
    }
   }
  },
  {
   "cell_type": "markdown",
   "source": [
    "## 1. Data Preparation\n",
    "\n",
    "While loading the data, the following additional preprocessing steps are applied.\n",
    "\n",
    "- The columns `history_text` and `powers_text` are concatenated in a new column `text`.\n",
    "- The rows with `NaN` values in the `overall_score` column are dropped."
   ],
   "metadata": {
    "collapsed": false
   }
  },
  {
   "cell_type": "code",
   "execution_count": 2,
   "outputs": [
    {
     "data": {
      "text/plain": "         name  overall_score  \\\n0      A-Bomb           20.0   \n1  Abe Sapien           10.0   \n\n                                        history_text  \\\n0  richard rick jone orphan young age expel sever...   \n1  sapien begin life langdon everett caul victori...   \n\n                                         powers_text  \\\n0  rare occasion unusual circumstance jone able t...   \n1  abe humanoid amphibious creature pair gill nec...   \n\n                                         superpowers        creator alignment  \\\n0  ['Accelerated Healing', 'Agility', 'Berserk Mo...  Marvel Comics      Good   \n1  ['Accelerated Healing', 'Agility', 'Cold Resis...          Other      Good   \n\n                                                text  \n0  richard rick jone orphan young age expel sever...  \n1  sapien begin life langdon everett caul victori...  ",
      "text/html": "<div>\n<style scoped>\n    .dataframe tbody tr th:only-of-type {\n        vertical-align: middle;\n    }\n\n    .dataframe tbody tr th {\n        vertical-align: top;\n    }\n\n    .dataframe thead th {\n        text-align: right;\n    }\n</style>\n<table border=\"1\" class=\"dataframe\">\n  <thead>\n    <tr style=\"text-align: right;\">\n      <th></th>\n      <th>name</th>\n      <th>overall_score</th>\n      <th>history_text</th>\n      <th>powers_text</th>\n      <th>superpowers</th>\n      <th>creator</th>\n      <th>alignment</th>\n      <th>text</th>\n    </tr>\n  </thead>\n  <tbody>\n    <tr>\n      <th>0</th>\n      <td>A-Bomb</td>\n      <td>20.0</td>\n      <td>richard rick jone orphan young age expel sever...</td>\n      <td>rare occasion unusual circumstance jone able t...</td>\n      <td>['Accelerated Healing', 'Agility', 'Berserk Mo...</td>\n      <td>Marvel Comics</td>\n      <td>Good</td>\n      <td>richard rick jone orphan young age expel sever...</td>\n    </tr>\n    <tr>\n      <th>1</th>\n      <td>Abe Sapien</td>\n      <td>10.0</td>\n      <td>sapien begin life langdon everett caul victori...</td>\n      <td>abe humanoid amphibious creature pair gill nec...</td>\n      <td>['Accelerated Healing', 'Agility', 'Cold Resis...</td>\n      <td>Other</td>\n      <td>Good</td>\n      <td>sapien begin life langdon everett caul victori...</td>\n    </tr>\n  </tbody>\n</table>\n</div>"
     },
     "execution_count": 2,
     "metadata": {},
     "output_type": "execute_result"
    }
   ],
   "source": [
    "superheros = pd.read_csv('datasets/Preprocessed.csv')\n",
    "superheros.loc[:, 'text'] = superheros.loc[:, 'history_text'].astype(str) + superheros.loc[:, 'powers_text'].astype(str)\n",
    "superheros = superheros.dropna(subset=['overall_score'])\n",
    "superheros.head(2)"
   ],
   "metadata": {
    "collapsed": false,
    "pycharm": {
     "name": "#%%\n"
    }
   }
  },
  {
   "cell_type": "markdown",
   "source": [
    "The dataset is split up into training ($65\\ \\%$) and test data ($35\\ \\%$)."
   ],
   "metadata": {
    "collapsed": false,
    "pycharm": {
     "name": "#%% md\n"
    }
   }
  },
  {
   "cell_type": "code",
   "execution_count": 3,
   "outputs": [],
   "source": [
    "seed = 42\n",
    "x_train, x_test, y_train, y_test = train_test_split(\n",
    "    superheros.loc[:, 'text'], superheros.loc[:, 'overall_score'], test_size=0.35, random_state=seed)"
   ],
   "metadata": {
    "collapsed": false,
    "pycharm": {
     "name": "#%%\n"
    }
   }
  },
  {
   "cell_type": "markdown",
   "source": [
    "## 2. BoW and Linear Regression"
   ],
   "metadata": {
    "collapsed": false
   }
  },
  {
   "cell_type": "markdown",
   "source": [
    "### 2.1 BoW Encoding"
   ],
   "metadata": {
    "collapsed": false
   }
  },
  {
   "cell_type": "code",
   "execution_count": 4,
   "outputs": [],
   "source": [
    "# defining the bag-of-words transformer on the text-processed corpus\n",
    "bow_transformer = CountVectorizer(analyzer='word').fit(x_train)\n",
    "# transforming into Bag-of-Words and hence textual data to numeric..\n",
    "x_train_bow = bow_transformer.transform(x_train)\n",
    "# transforming into Bag-of-Words and hence textual data to numeric..\n",
    "x_test_bow = bow_transformer.transform(x_test)"
   ],
   "metadata": {
    "collapsed": false,
    "pycharm": {
     "name": "#%%\n"
    }
   }
  },
  {
   "cell_type": "markdown",
   "source": [
    "## 2.2 Linear Regression Model"
   ],
   "metadata": {
    "collapsed": false
   }
  },
  {
   "cell_type": "markdown",
   "source": [
    "Training the model."
   ],
   "metadata": {
    "collapsed": false,
    "pycharm": {
     "name": "#%% md\n"
    }
   }
  },
  {
   "cell_type": "code",
   "execution_count": 6,
   "outputs": [],
   "source": [
    "reg_model = LinearRegression().fit(x_train_bow, y_train)"
   ],
   "metadata": {
    "collapsed": false,
    "pycharm": {
     "name": "#%%\n"
    }
   }
  },
  {
   "cell_type": "markdown",
   "source": [
    "Evaluating the model"
   ],
   "metadata": {
    "collapsed": false,
    "pycharm": {
     "name": "#%% md\n"
    }
   }
  },
  {
   "cell_type": "code",
   "execution_count": 24,
   "outputs": [
    {
     "name": "stdout",
     "output_type": "stream",
     "text": [
      "\n",
      "mean absolute error:\n",
      "19.521664589263775\n",
      "\n",
      "mean square error:\n",
      "1.9752684885927538\n"
     ]
    }
   ],
   "source": [
    "y_test_predicted = reg_model.predict(x_test_bow)\n",
    "error_bow = y_test_predicted - np.array(y_test.values)\n",
    "\n",
    "print('\\nmean absolute error:')\n",
    "print(np.linalg.norm(error_bow, 1) / len(y_test_predicted))\n",
    "print('\\nmean square error:')\n",
    "print(np.linalg.norm(error_bow, 2) / len(y_test_predicted))"
   ],
   "metadata": {
    "collapsed": false,
    "pycharm": {
     "name": "#%%\n"
    }
   }
  },
  {
   "cell_type": "markdown",
   "source": [
    "Ideas\n",
    "\n",
    "- [ ] compare single column text to the concatenated column.\n",
    "- [ ] Error distribution representation (histogram)\n",
    "- [ ] find out which word have the highest weights in the regression model"
   ],
   "metadata": {
    "collapsed": false,
    "pycharm": {
     "name": "#%% md\n"
    }
   }
  },
  {
   "cell_type": "markdown",
   "source": [
    "## 3. BoW and Multilayer Perceptron"
   ],
   "metadata": {
    "collapsed": false
   }
  },
  {
   "cell_type": "code",
   "source": [
    "# todo: everything :P\n"
   ],
   "metadata": {
    "collapsed": false,
    "pycharm": {
     "name": "#%%\n"
    }
   },
   "execution_count": 7,
   "outputs": []
  }
 ],
 "metadata": {
  "kernelspec": {
   "display_name": "Python 3",
   "language": "python",
   "name": "python3"
  },
  "language_info": {
   "codemirror_mode": {
    "name": "ipython",
    "version": 2
   },
   "file_extension": ".py",
   "mimetype": "text/x-python",
   "name": "python",
   "nbconvert_exporter": "python",
   "pygments_lexer": "ipython2",
   "version": "2.7.6"
  }
 },
 "nbformat": 4,
 "nbformat_minor": 0
}