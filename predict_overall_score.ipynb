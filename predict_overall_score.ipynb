{
 "cells": [
  {
   "cell_type": "markdown",
   "metadata": {
    "collapsed": true,
    "pycharm": {
     "name": "#%% md\n"
    }
   },
   "source": [
    "# Prediction of the superhero's overall score\n",
    "\n",
    "The goal of this notebook is to predict a superhero's overall score based on the hero's history and powers description.\n",
    "Different techniques are used to achieve this goal.\n",
    "\n",
    "- __Section 2__ uses a bag of words (BoW) approach to encode the text into a fixed length vector.\n",
    "    - In __Section 2.2__ this representation is the input to a linear regression model that aims to predict the superhero's overall score.\n",
    "    - In __Section 2.3__ the same inputs are used to train a multilayer perceptron.\n",
    "- __Section 3__ Follows a similar approach while replacing the linear regression model by a multilayer perceptron."
   ]
  },
  {
   "cell_type": "markdown",
   "metadata": {},
   "source": [
    "## 0. Setup"
   ]
  },
  {
   "cell_type": "code",
   "execution_count": 1,
   "metadata": {
    "pycharm": {
     "name": "#%%\n"
    }
   },
   "outputs": [],
   "source": [
    "import numpy as np\n",
    "import pandas as pd\n",
    "import plotly.express as px\n",
    "from sklearn.feature_extraction.text import CountVectorizer\n",
    "from sklearn.feature_extraction.text import TfidfVectorizer\n",
    "from sklearn.linear_model import LinearRegression\n",
    "from sklearn.model_selection import train_test_split\n",
    "from sklearn.neural_network import MLPRegressor"
   ]
  },
  {
   "cell_type": "code",
   "execution_count": 2,
   "outputs": [],
   "source": [
    "# global variables\n",
    "MLP_LAYER_CONFIG = (800, 400, 200, 100)\n",
    "experiments = []\n",
    "\n",
    "# data classes to reduce the cluttering in the namespace\n",
    "class DataSet:\n",
    "\n",
    "    def __init__(self, name: str):\n",
    "        self.name = name\n",
    "        self.x_train = None\n",
    "        self.y_train = None\n",
    "        self.x_test = None\n",
    "        self.y_test = None\n",
    "\n",
    "    def set_data(self, x_train, x_test, y_train, y_test):\n",
    "        self.x_train = x_train\n",
    "        self.y_train = y_train\n",
    "        self.x_test = x_test\n",
    "        self.y_test = y_test\n",
    "\n",
    "    def get_bow_encoding(self):\n",
    "\n",
    "        bow_transformer = CountVectorizer(analyzer='word').fit(self.x_train)\n",
    "\n",
    "        ds_bow = DataSet(self.name + ' BoW')\n",
    "        ds_bow.x_train = bow_transformer.transform(self.x_train)\n",
    "        ds_bow.y_train = self.y_train\n",
    "        ds_bow.x_test = bow_transformer.transform(self.x_test)\n",
    "        ds_bow.y_test = self.y_test\n",
    "\n",
    "        return ds_bow\n",
    "\n",
    "    def get_tfidf_encoding(self):\n",
    "\n",
    "        tfidf_transformer = TfidfVectorizer(analyzer='word').fit(self.x_train)\n",
    "\n",
    "        tfidf_bow = DataSet(self.name + ' tf-idf')\n",
    "        tfidf_bow.x_train = tfidf_transformer.transform(self.x_train)\n",
    "        tfidf_bow.y_train = self.y_train\n",
    "        tfidf_bow.x_test = tfidf_transformer.transform(self.x_test)\n",
    "        tfidf_bow.y_test = self.y_test\n",
    "\n",
    "        return tfidf_bow\n",
    "\n",
    "\n",
    "class Experiment:\n",
    "\n",
    "    def __init__(self, name: str, data_set: DataSet):\n",
    "        self.name = name\n",
    "        self.data_set = data_set\n",
    "        # models\n",
    "        self.model = None\n",
    "        # errors\n",
    "        self.errors = None  # errors for all predicted values\n",
    "        self.mae = None  # mean absolute error\n",
    "        self.mse = None  # mean square error\n",
    "\n",
    "    def train(self):\n",
    "        self.model.fit(self.data_set.x_train, self.data_set.y_train)\n",
    "\n",
    "    def evaluate(self):\n",
    "        y_test_predicted = self.model.predict(self.data_set.x_test)\n",
    "        self.errors = y_test_predicted - np.array(self.data_set.y_test.values)\n",
    "\n",
    "        self.mae = np.linalg.norm(self.errors, 1) / len(y_test_predicted)\n",
    "        self.mse = np.linalg.norm(self.errors, 2) / len(y_test_predicted)\n",
    "\n",
    "    @staticmethod\n",
    "    def compare(experiments):\n",
    "        comparison_df = pd.DataFrame(columns=['mean absolute error', 'mean square error'])\n",
    "        for ex in experiments:\n",
    "            comparison_df.loc[ex.name, :] = [ex.mae, ex.mse]\n",
    "        return comparison_df\n",
    "\n",
    "\n",
    "class LinRegExperiment(Experiment):\n",
    "\n",
    "    def __init__(self, name: str, data_set: DataSet, model: LinearRegression):\n",
    "        super().__init__(name, data_set)\n",
    "        self.model = model\n",
    "\n",
    "class MLPExperiment(Experiment):\n",
    "\n",
    "    def __init__(self, name: str, data_set: DataSet, model: MLPRegressor):\n",
    "        super().__init__(name, data_set)\n",
    "        self.model = model\n",
    "        self.training_history_nn = None"
   ],
   "metadata": {
    "collapsed": false,
    "pycharm": {
     "name": "#%%\n"
    }
   }
  },
  {
   "cell_type": "markdown",
   "metadata": {},
   "source": [
    "## 1. Data Preparation\n",
    "\n",
    "While loading the data, the following additional preprocessing steps are applied.\n",
    "\n",
    "- The columns `history_text` and `powers_text` are concatenated in a new column `text`.\n",
    "- The rows with `NaN` values in the `overall_score` column are dropped."
   ]
  },
  {
   "cell_type": "code",
   "execution_count": 3,
   "metadata": {
    "pycharm": {
     "name": "#%%\n"
    }
   },
   "outputs": [
    {
     "data": {
      "text/plain": "         name  overall_score  \\\n0      A-Bomb           20.0   \n1  Abe Sapien           10.0   \n\n                                        history_text  \\\n0  richard rick jone orphan young age expel sever...   \n1  sapien begin life langdon everett caul victori...   \n\n                                         powers_text  \\\n0  rare occasion unusual circumstance jone able t...   \n1  abe humanoid amphibious creature pair gill nec...   \n\n                                         superpowers        creator alignment  \\\n0  ['Accelerated Healing', 'Agility', 'Berserk Mo...  Marvel Comics      Good   \n1  ['Accelerated Healing', 'Agility', 'Cold Resis...          Other      Good   \n\n                                                text  \n0  richard rick jone orphan young age expel sever...  \n1  sapien begin life langdon everett caul victori...  ",
      "text/html": "<div>\n<style scoped>\n    .dataframe tbody tr th:only-of-type {\n        vertical-align: middle;\n    }\n\n    .dataframe tbody tr th {\n        vertical-align: top;\n    }\n\n    .dataframe thead th {\n        text-align: right;\n    }\n</style>\n<table border=\"1\" class=\"dataframe\">\n  <thead>\n    <tr style=\"text-align: right;\">\n      <th></th>\n      <th>name</th>\n      <th>overall_score</th>\n      <th>history_text</th>\n      <th>powers_text</th>\n      <th>superpowers</th>\n      <th>creator</th>\n      <th>alignment</th>\n      <th>text</th>\n    </tr>\n  </thead>\n  <tbody>\n    <tr>\n      <th>0</th>\n      <td>A-Bomb</td>\n      <td>20.0</td>\n      <td>richard rick jone orphan young age expel sever...</td>\n      <td>rare occasion unusual circumstance jone able t...</td>\n      <td>['Accelerated Healing', 'Agility', 'Berserk Mo...</td>\n      <td>Marvel Comics</td>\n      <td>Good</td>\n      <td>richard rick jone orphan young age expel sever...</td>\n    </tr>\n    <tr>\n      <th>1</th>\n      <td>Abe Sapien</td>\n      <td>10.0</td>\n      <td>sapien begin life langdon everett caul victori...</td>\n      <td>abe humanoid amphibious creature pair gill nec...</td>\n      <td>['Accelerated Healing', 'Agility', 'Cold Resis...</td>\n      <td>Other</td>\n      <td>Good</td>\n      <td>sapien begin life langdon everett caul victori...</td>\n    </tr>\n  </tbody>\n</table>\n</div>"
     },
     "execution_count": 3,
     "metadata": {},
     "output_type": "execute_result"
    }
   ],
   "source": [
    "superheros = pd.read_csv('datasets/Preprocessed.csv')\n",
    "superheros.loc[:, 'text'] = superheros.loc[:, 'history_text'].astype(str) + superheros.loc[:, 'powers_text'].astype(str)\n",
    "superheros = superheros.dropna(subset=['overall_score'])\n",
    "superheros.head(2)"
   ]
  },
  {
   "cell_type": "markdown",
   "metadata": {
    "pycharm": {
     "name": "#%% md\n"
    }
   },
   "source": [
    "Two pairs of inputs and outputs are created.\n",
    "The first one contains the `history_text` and the second one the `text` column as input.\n",
    "Both contain the `overall_score` as output.\n",
    "\n",
    "The dataset is split up into training ($65\\ \\%$) and test data ($35\\ \\%$)."
   ]
  },
  {
   "cell_type": "code",
   "execution_count": 4,
   "metadata": {
    "pycharm": {
     "name": "#%%\n"
    }
   },
   "outputs": [
    {
     "name": "stdout",
     "output_type": "stream",
     "text": [
      "training data size: (605,)\n",
      "test data size: (327,)\n"
     ]
    }
   ],
   "source": [
    "seed = 42\n",
    "test_ratio = 0.35\n",
    "\n",
    "ds_hist = DataSet('history')\n",
    "ds_cnct = DataSet('concatenated')\n",
    "\n",
    "ds_hist.set_data(*train_test_split(superheros.loc[:, 'history_text'], superheros.loc[:, 'overall_score'],\n",
    "                                  test_size=test_ratio, random_state=seed))\n",
    "ds_cnct.set_data(*train_test_split(superheros.loc[:, 'text'], superheros.loc[:, 'overall_score'],\n",
    "                                  test_size=test_ratio, random_state=seed))\n",
    "\n",
    "print(f'training data size: {ds_hist.x_train.shape}')\n",
    "print(f'test data size: {ds_hist.x_test.shape}')"
   ]
  },
  {
   "cell_type": "markdown",
   "metadata": {},
   "source": [
    "- [ ] If there are not too many NaN values, make another experiment with only the superpower_text column."
   ]
  },
  {
   "cell_type": "markdown",
   "metadata": {},
   "source": [
    "## 2. BoW"
   ]
  },
  {
   "cell_type": "markdown",
   "metadata": {},
   "source": [
    "### 2.1 Linear Regression Model"
   ]
  },
  {
   "cell_type": "code",
   "execution_count": 5,
   "outputs": [
    {
     "data": {
      "text/plain": "                         mean absolute error mean square error\nBoW Lin Reg history                27.414058          2.801669\nBoW Lin Reg concatenated           19.521665          1.975268",
      "text/html": "<div>\n<style scoped>\n    .dataframe tbody tr th:only-of-type {\n        vertical-align: middle;\n    }\n\n    .dataframe tbody tr th {\n        vertical-align: top;\n    }\n\n    .dataframe thead th {\n        text-align: right;\n    }\n</style>\n<table border=\"1\" class=\"dataframe\">\n  <thead>\n    <tr style=\"text-align: right;\">\n      <th></th>\n      <th>mean absolute error</th>\n      <th>mean square error</th>\n    </tr>\n  </thead>\n  <tbody>\n    <tr>\n      <th>BoW Lin Reg history</th>\n      <td>27.414058</td>\n      <td>2.801669</td>\n    </tr>\n    <tr>\n      <th>BoW Lin Reg concatenated</th>\n      <td>19.521665</td>\n      <td>1.975268</td>\n    </tr>\n  </tbody>\n</table>\n</div>"
     },
     "execution_count": 5,
     "metadata": {},
     "output_type": "execute_result"
    }
   ],
   "source": [
    "bow_lin_hist = LinRegExperiment('BoW Lin Reg history', ds_hist.get_bow_encoding(), LinearRegression())\n",
    "bow_lin_cnct = LinRegExperiment('BoW Lin Reg concatenated', ds_cnct.get_bow_encoding(), LinearRegression())\n",
    "experiments.append(bow_lin_hist)\n",
    "experiments.append(bow_lin_cnct)\n",
    "\n",
    "# Training the model.\n",
    "bow_lin_hist.train()\n",
    "bow_lin_cnct.train()\n",
    "\n",
    "# Evaluating the model\n",
    "bow_lin_hist.evaluate()\n",
    "bow_lin_cnct.evaluate()\n",
    "\n",
    "# comparing the model\n",
    "Experiment.compare(experiments)"
   ],
   "metadata": {
    "collapsed": false,
    "pycharm": {
     "name": "#%%\n"
    }
   }
  },
  {
   "cell_type": "code",
   "execution_count": 6,
   "metadata": {
    "pycharm": {
     "name": "#%%\n"
    }
   },
   "outputs": [],
   "source": [
    "# px.histogram(bow_lin_hist.errors)"
   ]
  },
  {
   "cell_type": "code",
   "execution_count": 7,
   "metadata": {
    "pycharm": {
     "name": "#%%\n"
    }
   },
   "outputs": [],
   "source": [
    "# px.histogram(bow_lin_cnct.errors)"
   ]
  },
  {
   "cell_type": "markdown",
   "metadata": {
    "pycharm": {
     "name": "#%% md\n"
    }
   },
   "source": [
    "TODOs\n",
    "\n",
    "- [ ] Style the plots better.\n",
    "\n",
    "Ideas\n",
    "\n",
    "- [ ] find out which word have the highest weights in the regression model"
   ]
  },
  {
   "cell_type": "markdown",
   "metadata": {
    "pycharm": {
     "name": "#%% md\n"
    }
   },
   "source": [
    "Observations\n",
    "\n",
    "- The model that has more data at its disposal performs better.\n",
    "- The model performs well in most cases but makes large mistakes for a few superheros."
   ]
  },
  {
   "cell_type": "markdown",
   "metadata": {},
   "source": [
    "### 2.2 Multilayer Perceptron Regressor"
   ]
  },
  {
   "cell_type": "code",
   "execution_count": 8,
   "outputs": [
    {
     "name": "stderr",
     "output_type": "stream",
     "text": [
      "/Users/filipschlembach/Documents/UniMaas/2021_ss/Advanced_Natural_Language_Processing/project/ANLP_Project/venv/lib/python3.9/site-packages/sklearn/neural_network/_multilayer_perceptron.py:614: ConvergenceWarning: Stochastic Optimizer: Maximum iterations (25) reached and the optimization hasn't converged yet.\n",
      "  warnings.warn(\n",
      "/Users/filipschlembach/Documents/UniMaas/2021_ss/Advanced_Natural_Language_Processing/project/ANLP_Project/venv/lib/python3.9/site-packages/sklearn/neural_network/_multilayer_perceptron.py:614: ConvergenceWarning: Stochastic Optimizer: Maximum iterations (25) reached and the optimization hasn't converged yet.\n",
      "  warnings.warn(\n"
     ]
    },
    {
     "data": {
      "text/plain": "                         mean absolute error mean square error\nBoW Lin Reg history                27.414058          2.801669\nBoW Lin Reg concatenated           19.521665          1.975268\nBoW MLP history                    12.898538          2.023387\nBoW MLP concatenated               12.263702          1.857456",
      "text/html": "<div>\n<style scoped>\n    .dataframe tbody tr th:only-of-type {\n        vertical-align: middle;\n    }\n\n    .dataframe tbody tr th {\n        vertical-align: top;\n    }\n\n    .dataframe thead th {\n        text-align: right;\n    }\n</style>\n<table border=\"1\" class=\"dataframe\">\n  <thead>\n    <tr style=\"text-align: right;\">\n      <th></th>\n      <th>mean absolute error</th>\n      <th>mean square error</th>\n    </tr>\n  </thead>\n  <tbody>\n    <tr>\n      <th>BoW Lin Reg history</th>\n      <td>27.414058</td>\n      <td>2.801669</td>\n    </tr>\n    <tr>\n      <th>BoW Lin Reg concatenated</th>\n      <td>19.521665</td>\n      <td>1.975268</td>\n    </tr>\n    <tr>\n      <th>BoW MLP history</th>\n      <td>12.898538</td>\n      <td>2.023387</td>\n    </tr>\n    <tr>\n      <th>BoW MLP concatenated</th>\n      <td>12.263702</td>\n      <td>1.857456</td>\n    </tr>\n  </tbody>\n</table>\n</div>"
     },
     "execution_count": 8,
     "metadata": {},
     "output_type": "execute_result"
    }
   ],
   "source": [
    "bow_nn_hist = MLPExperiment('BoW MLP history', ds_hist.get_bow_encoding(),\n",
    "                               MLPRegressor(hidden_layer_sizes=MLP_LAYER_CONFIG, max_iter=25))\n",
    "bow_nn_cnct = MLPExperiment('BoW MLP concatenated', ds_cnct.get_bow_encoding(),\n",
    "                               MLPRegressor(hidden_layer_sizes=MLP_LAYER_CONFIG, max_iter=25))\n",
    "experiments.append(bow_nn_hist)\n",
    "experiments.append(bow_nn_cnct)\n",
    "\n",
    "# Training the model.\n",
    "bow_nn_hist.train()\n",
    "bow_nn_cnct.train()\n",
    "\n",
    "# Evaluating the model\n",
    "bow_nn_hist.evaluate()\n",
    "bow_nn_cnct.evaluate()\n",
    "# px.line(mlp_bow_history.loss_curve_)\n",
    "# px.line(mlp_bow_concat.loss_curve_)\n",
    "\n",
    "# comparing the model\n",
    "Experiment.compare(experiments)\n",
    "\n",
    "# px.histogram(e_mlp_history)\n",
    "# px.histogram(e_mlp_concat)"
   ],
   "metadata": {
    "collapsed": false,
    "pycharm": {
     "name": "#%%\n"
    }
   }
  },
  {
   "cell_type": "markdown",
   "metadata": {
    "pycharm": {
     "name": "#%% md\n"
    }
   },
   "source": [
    "Relative improvments over the linear regression model:"
   ]
  },
  {
   "cell_type": "code",
   "execution_count": 9,
   "metadata": {
    "pycharm": {
     "name": "#%%\n"
    }
   },
   "outputs": [],
   "source": [
    "# lin_reg_errors / mlp_reg_errors - 1"
   ]
  },
  {
   "cell_type": "markdown",
   "metadata": {
    "pycharm": {
     "name": "#%% md\n"
    }
   },
   "source": [
    "Observations\n",
    "\n",
    "- The model trained on more data outperforms the other one again by a small margin.\n",
    "- The MLP models seem to perform a little better than the linear regression models but not much despite being much more complex.\n",
    "This suggests that the limiting factor is not the linear regression model but another element in the approach like the\n",
    "encoding of the text, the available amount of data or the data itself."
   ]
  },
  {
   "cell_type": "markdown",
   "metadata": {},
   "source": [
    "## 3 tf-idf"
   ]
  },
  {
   "cell_type": "markdown",
   "source": [
    "### 3.1 Linear Regression Model"
   ],
   "metadata": {
    "collapsed": false
   }
  },
  {
   "cell_type": "code",
   "execution_count": 10,
   "outputs": [
    {
     "data": {
      "text/plain": "                            mean absolute error mean square error\nBoW Lin Reg history                   27.414058          2.801669\nBoW Lin Reg concatenated              19.521665          1.975268\nBoW MLP history                       12.898538          2.023387\nBoW MLP concatenated                  12.263702          1.857456\ntf-idf Lin Reg history                14.697725          1.870293\ntf-idf Lin Reg concatenated           15.025488          1.738038",
      "text/html": "<div>\n<style scoped>\n    .dataframe tbody tr th:only-of-type {\n        vertical-align: middle;\n    }\n\n    .dataframe tbody tr th {\n        vertical-align: top;\n    }\n\n    .dataframe thead th {\n        text-align: right;\n    }\n</style>\n<table border=\"1\" class=\"dataframe\">\n  <thead>\n    <tr style=\"text-align: right;\">\n      <th></th>\n      <th>mean absolute error</th>\n      <th>mean square error</th>\n    </tr>\n  </thead>\n  <tbody>\n    <tr>\n      <th>BoW Lin Reg history</th>\n      <td>27.414058</td>\n      <td>2.801669</td>\n    </tr>\n    <tr>\n      <th>BoW Lin Reg concatenated</th>\n      <td>19.521665</td>\n      <td>1.975268</td>\n    </tr>\n    <tr>\n      <th>BoW MLP history</th>\n      <td>12.898538</td>\n      <td>2.023387</td>\n    </tr>\n    <tr>\n      <th>BoW MLP concatenated</th>\n      <td>12.263702</td>\n      <td>1.857456</td>\n    </tr>\n    <tr>\n      <th>tf-idf Lin Reg history</th>\n      <td>14.697725</td>\n      <td>1.870293</td>\n    </tr>\n    <tr>\n      <th>tf-idf Lin Reg concatenated</th>\n      <td>15.025488</td>\n      <td>1.738038</td>\n    </tr>\n  </tbody>\n</table>\n</div>"
     },
     "execution_count": 10,
     "metadata": {},
     "output_type": "execute_result"
    }
   ],
   "source": [
    "tfidf_lin_hist = LinRegExperiment('tf-idf Lin Reg history', ds_hist.get_tfidf_encoding(), LinearRegression())\n",
    "tfidf_lin_cnct = LinRegExperiment('tf-idf Lin Reg concatenated', ds_cnct.get_tfidf_encoding(), LinearRegression())\n",
    "experiments.append(tfidf_lin_hist)\n",
    "experiments.append(tfidf_lin_cnct)\n",
    "\n",
    "# Training the model.\n",
    "tfidf_lin_hist.train()\n",
    "tfidf_lin_cnct.train()\n",
    "\n",
    "# Evaluating the model\n",
    "tfidf_lin_hist.evaluate()\n",
    "tfidf_lin_cnct.evaluate()\n",
    "\n",
    "# comparing the model\n",
    "Experiment.compare(experiments)"
   ],
   "metadata": {
    "collapsed": false,
    "pycharm": {
     "name": "#%%\n"
    }
   }
  },
  {
   "cell_type": "markdown",
   "source": [
    "- [ ] todo: observation and error plots"
   ],
   "metadata": {
    "collapsed": false,
    "pycharm": {
     "name": "#%% md\n"
    }
   }
  },
  {
   "cell_type": "markdown",
   "source": [
    "### 3.3 tf-idf and Multilayer Perceptron Regressor"
   ],
   "metadata": {
    "collapsed": false
   }
  },
  {
   "cell_type": "code",
   "execution_count": 11,
   "outputs": [
    {
     "name": "stderr",
     "output_type": "stream",
     "text": [
      "/Users/filipschlembach/Documents/UniMaas/2021_ss/Advanced_Natural_Language_Processing/project/ANLP_Project/venv/lib/python3.9/site-packages/sklearn/neural_network/_multilayer_perceptron.py:614: ConvergenceWarning: Stochastic Optimizer: Maximum iterations (25) reached and the optimization hasn't converged yet.\n",
      "  warnings.warn(\n",
      "/Users/filipschlembach/Documents/UniMaas/2021_ss/Advanced_Natural_Language_Processing/project/ANLP_Project/venv/lib/python3.9/site-packages/sklearn/neural_network/_multilayer_perceptron.py:614: ConvergenceWarning: Stochastic Optimizer: Maximum iterations (25) reached and the optimization hasn't converged yet.\n",
      "  warnings.warn(\n"
     ]
    },
    {
     "data": {
      "text/plain": "                            mean absolute error mean square error\nBoW Lin Reg history                   27.414058          2.801669\nBoW Lin Reg concatenated              19.521665          1.975268\nBoW MLP history                       12.898538          2.023387\nBoW MLP concatenated                  12.263702          1.857456\ntf-idf Lin Reg history                14.697725          1.870293\ntf-idf Lin Reg concatenated           15.025488          1.738038\ntf-idf MLP history                    11.386986          1.910227\ntf-idf MLP Reg concatenated           10.992288          1.750343",
      "text/html": "<div>\n<style scoped>\n    .dataframe tbody tr th:only-of-type {\n        vertical-align: middle;\n    }\n\n    .dataframe tbody tr th {\n        vertical-align: top;\n    }\n\n    .dataframe thead th {\n        text-align: right;\n    }\n</style>\n<table border=\"1\" class=\"dataframe\">\n  <thead>\n    <tr style=\"text-align: right;\">\n      <th></th>\n      <th>mean absolute error</th>\n      <th>mean square error</th>\n    </tr>\n  </thead>\n  <tbody>\n    <tr>\n      <th>BoW Lin Reg history</th>\n      <td>27.414058</td>\n      <td>2.801669</td>\n    </tr>\n    <tr>\n      <th>BoW Lin Reg concatenated</th>\n      <td>19.521665</td>\n      <td>1.975268</td>\n    </tr>\n    <tr>\n      <th>BoW MLP history</th>\n      <td>12.898538</td>\n      <td>2.023387</td>\n    </tr>\n    <tr>\n      <th>BoW MLP concatenated</th>\n      <td>12.263702</td>\n      <td>1.857456</td>\n    </tr>\n    <tr>\n      <th>tf-idf Lin Reg history</th>\n      <td>14.697725</td>\n      <td>1.870293</td>\n    </tr>\n    <tr>\n      <th>tf-idf Lin Reg concatenated</th>\n      <td>15.025488</td>\n      <td>1.738038</td>\n    </tr>\n    <tr>\n      <th>tf-idf MLP history</th>\n      <td>11.386986</td>\n      <td>1.910227</td>\n    </tr>\n    <tr>\n      <th>tf-idf MLP Reg concatenated</th>\n      <td>10.992288</td>\n      <td>1.750343</td>\n    </tr>\n  </tbody>\n</table>\n</div>"
     },
     "execution_count": 11,
     "metadata": {},
     "output_type": "execute_result"
    }
   ],
   "source": [
    "tfidf_nn_hist = LinRegExperiment('tf-idf MLP history', ds_hist.get_tfidf_encoding(),\n",
    "                                 MLPRegressor(hidden_layer_sizes=MLP_LAYER_CONFIG, max_iter=25))\n",
    "tfidf_nn_cnct = LinRegExperiment('tf-idf MLP Reg concatenated', ds_cnct.get_tfidf_encoding(),\n",
    "                                 MLPRegressor(hidden_layer_sizes=MLP_LAYER_CONFIG, max_iter=25))\n",
    "experiments.append(tfidf_nn_hist)\n",
    "experiments.append(tfidf_nn_cnct)\n",
    "\n",
    "# Training the model.\n",
    "tfidf_nn_hist.train()\n",
    "tfidf_nn_cnct.train()\n",
    "\n",
    "# Evaluating the model\n",
    "tfidf_nn_hist.evaluate()\n",
    "tfidf_nn_cnct.evaluate()\n",
    "\n",
    "# comparing the model\n",
    "Experiment.compare(experiments)"
   ],
   "metadata": {
    "collapsed": false,
    "pycharm": {
     "name": "#%%\n"
    }
   }
  },
  {
   "cell_type": "markdown",
   "source": [
    "- [ ] word2vec: explain why we're not using it in the report.\n"
   ],
   "metadata": {
    "collapsed": false,
    "pycharm": {
     "name": "#%% md\n"
    }
   }
  }
 ],
 "metadata": {
  "kernelspec": {
   "display_name": "Python 3",
   "language": "python",
   "name": "python3"
  },
  "language_info": {
   "codemirror_mode": {
    "name": "ipython",
    "version": 3
   },
   "file_extension": ".py",
   "mimetype": "text/x-python",
   "name": "python",
   "nbconvert_exporter": "python",
   "pygments_lexer": "ipython3",
   "version": "3.9.1"
  }
 },
 "nbformat": 4,
 "nbformat_minor": 1
}